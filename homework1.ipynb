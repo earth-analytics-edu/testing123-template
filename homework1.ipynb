{
 "cells": [
   {
   "cell_type": "markdown",
   "metadata": {},
   "source": [
    "# Testing partial credit"
   ]
  }
 ]
 }
